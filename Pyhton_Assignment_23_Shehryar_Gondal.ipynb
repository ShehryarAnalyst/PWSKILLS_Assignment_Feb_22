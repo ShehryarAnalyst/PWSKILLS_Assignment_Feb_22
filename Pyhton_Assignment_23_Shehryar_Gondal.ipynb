{
 "cells": [
  {
   "cell_type": "markdown",
   "id": "81bc169f",
   "metadata": {},
   "source": [
    "## Assignment Question"
   ]
  },
  {
   "cell_type": "markdown",
   "id": "2e75a1ef",
   "metadata": {},
   "source": [
    "__Q1. Create a Pandas Series that contains the following data: 4, 8, 15, 16, 23, and 42. Then, print the series__"
   ]
  },
  {
   "cell_type": "code",
   "execution_count": 2,
   "id": "403e5f46",
   "metadata": {},
   "outputs": [],
   "source": [
    "import pandas as pd"
   ]
  },
  {
   "cell_type": "code",
   "execution_count": 6,
   "id": "6d007f28",
   "metadata": {},
   "outputs": [
    {
     "name": "stdout",
     "output_type": "stream",
     "text": [
      "0     4\n",
      "1     8\n",
      "2    15\n",
      "3    16\n",
      "4    23\n",
      "5    42\n",
      "dtype: int64\n",
      "<class 'pandas.core.series.Series'>\n"
     ]
    }
   ],
   "source": [
    "df=pd.Series(data=[4,8,15,16,23,42])\n",
    "print(df)\n",
    "print(type(df))"
   ]
  },
  {
   "cell_type": "markdown",
   "id": "ad112317",
   "metadata": {},
   "source": [
    "__Q2. Create a variable of list type containing 10 elements in it, and apply pandas.Series function on the\n",
    "variable print it__"
   ]
  },
  {
   "cell_type": "code",
   "execution_count": 7,
   "id": "6b1c6000",
   "metadata": {},
   "outputs": [
    {
     "name": "stdout",
     "output_type": "stream",
     "text": [
      "0     1\n",
      "1     2\n",
      "2     3\n",
      "3     4\n",
      "4     5\n",
      "5     6\n",
      "6     7\n",
      "7     8\n",
      "8     9\n",
      "9    10\n",
      "dtype: int64\n",
      "<class 'pandas.core.series.Series'>\n"
     ]
    }
   ],
   "source": [
    "d=list(range(1,11))\n",
    "df=pd.Series(data=d)\n",
    "print(df)\n",
    "print(type(df))"
   ]
  },
  {
   "cell_type": "markdown",
   "id": "776430b2",
   "metadata": {},
   "source": [
    "__Q3. Create a Pandas DataFrame that contains the following data:__"
   ]
  },
  {
   "cell_type": "code",
   "execution_count": 9,
   "id": "dfed55fd",
   "metadata": {},
   "outputs": [
    {
     "data": {
      "text/html": [
       "<div>\n",
       "<style scoped>\n",
       "    .dataframe tbody tr th:only-of-type {\n",
       "        vertical-align: middle;\n",
       "    }\n",
       "\n",
       "    .dataframe tbody tr th {\n",
       "        vertical-align: top;\n",
       "    }\n",
       "\n",
       "    .dataframe thead th {\n",
       "        text-align: right;\n",
       "    }\n",
       "</style>\n",
       "<table border=\"1\" class=\"dataframe\">\n",
       "  <thead>\n",
       "    <tr style=\"text-align: right;\">\n",
       "      <th></th>\n",
       "      <th>Name</th>\n",
       "      <th>Age</th>\n",
       "      <th>Gender</th>\n",
       "    </tr>\n",
       "  </thead>\n",
       "  <tbody>\n",
       "    <tr>\n",
       "      <th>0</th>\n",
       "      <td>Alice</td>\n",
       "      <td>25</td>\n",
       "      <td>Female</td>\n",
       "    </tr>\n",
       "    <tr>\n",
       "      <th>1</th>\n",
       "      <td>Bob</td>\n",
       "      <td>30</td>\n",
       "      <td>Male</td>\n",
       "    </tr>\n",
       "    <tr>\n",
       "      <th>2</th>\n",
       "      <td>Claire</td>\n",
       "      <td>27</td>\n",
       "      <td>Female</td>\n",
       "    </tr>\n",
       "  </tbody>\n",
       "</table>\n",
       "</div>"
      ],
      "text/plain": [
       "     Name  Age  Gender\n",
       "0   Alice   25  Female\n",
       "1     Bob   30    Male\n",
       "2  Claire   27  Female"
      ]
     },
     "execution_count": 9,
     "metadata": {},
     "output_type": "execute_result"
    }
   ],
   "source": [
    "data = {'Name': ['Alice', 'Bob', 'Claire'],\n",
    "\n",
    "        'Age': [25, 30, 27],\n",
    "\n",
    "        'Gender': ['Female', 'Male', 'Female']}\n",
    "\n",
    "df = pd.DataFrame(data)\n",
    "df"
   ]
  },
  {
   "cell_type": "markdown",
   "id": "65fca950",
   "metadata": {},
   "source": [
    "__Q4. What is ‘DataFrame’ in pandas and how is it different from pandas.series? Explain with an example ?__\n",
    "\n",
    "__Ans)__ A DataFrame is a 2D labeled data structure with columns of different types, while a Series is a 1D labeled array holding a single column of data. The main difference is that a DataFrame can hold multiple columns, while a Series can only hold one column. In code, we can create a DataFrame using a dictionary and create a Series by selecting a column from a DataFrame."
   ]
  },
  {
   "cell_type": "markdown",
   "id": "45843db4",
   "metadata": {},
   "source": [
    "__Q5. What are some common functions you can use to manipulate data in a Pandas DataFrame? Can\n",
    "you give an example of when you might use one of these functions?__\n",
    "\n",
    "__Ans)__ These are the common functions and methods for manipulating data in a Pandas DataFrame include __head(), tail(), info(), describe(), groupby(), and drop()__. These can be used to view data, get summary statistics, group data, and remove columns or rows. The choice of function or method depends on the task and the data being analyzed."
   ]
  },
  {
   "cell_type": "code",
   "execution_count": null,
   "id": "274d030e",
   "metadata": {},
   "outputs": [],
   "source": [
    "print(df.head())\n",
    "print(df.tail())\n",
    "print(df.info())"
   ]
  },
  {
   "cell_type": "markdown",
   "id": "1c4042b0",
   "metadata": {},
   "source": [
    "__Q6. Which of the following is mutable in nature Series, DataFrame, Panel?__\n",
    "\n",
    "__Ans)__ In Pandas, __both Series and DataFrame are mutable in nature__, while Panel is deprecated since version 0.25.0 and is no longer used.\n",
    "\n",
    "Mutability means that the object can be changed after it is created. For example, we can add or remove elements to/from a Series or a DataFrame after it is created. This is useful for data manipulation and analysis, where we often need to modify the data in some way to get the desired result."
   ]
  },
  {
   "cell_type": "markdown",
   "id": "5d1c729a",
   "metadata": {},
   "source": [
    "__Q7. Create a DataFrame using multiple Series. Explain with an example.?__"
   ]
  },
  {
   "cell_type": "code",
   "execution_count": 10,
   "id": "f0505c56",
   "metadata": {},
   "outputs": [
    {
     "name": "stdout",
     "output_type": "stream",
     "text": [
      "      Name  Age  Gender\n",
      "0    Alice   25  Female\n",
      "1      Bob   30    Male\n",
      "2  Charlie   35    Male\n"
     ]
    }
   ],
   "source": [
    "# create multiple Series\n",
    "name = pd.Series(['Alice', 'Bob', 'Charlie'])\n",
    "age = pd.Series([25, 30, 35])\n",
    "gender = pd.Series(['Female', 'Male', 'Male'])\n",
    "\n",
    "# create a DataFrame using the Series\n",
    "df = pd.DataFrame({'Name': name, 'Age': age, 'Gender': gender})\n",
    "print(df)"
   ]
  },
  {
   "cell_type": "markdown",
   "id": "aa2f3e7f",
   "metadata": {},
   "source": [
    "-------------------------------------------------------------------------------------------- __End__----------------------------------------------------------------------------------------------------------------"
   ]
  }
 ],
 "metadata": {
  "kernelspec": {
   "display_name": "Python 3 (ipykernel)",
   "language": "python",
   "name": "python3"
  },
  "language_info": {
   "codemirror_mode": {
    "name": "ipython",
    "version": 3
   },
   "file_extension": ".py",
   "mimetype": "text/x-python",
   "name": "python",
   "nbconvert_exporter": "python",
   "pygments_lexer": "ipython3",
   "version": "3.9.12"
  },
  "varInspector": {
   "cols": {
    "lenName": 16,
    "lenType": 16,
    "lenVar": 40
   },
   "kernels_config": {
    "python": {
     "delete_cmd_postfix": "",
     "delete_cmd_prefix": "del ",
     "library": "var_list.py",
     "varRefreshCmd": "print(var_dic_list())"
    },
    "r": {
     "delete_cmd_postfix": ") ",
     "delete_cmd_prefix": "rm(",
     "library": "var_list.r",
     "varRefreshCmd": "cat(var_dic_list()) "
    }
   },
   "types_to_exclude": [
    "module",
    "function",
    "builtin_function_or_method",
    "instance",
    "_Feature"
   ],
   "window_display": false
  }
 },
 "nbformat": 4,
 "nbformat_minor": 5
}
